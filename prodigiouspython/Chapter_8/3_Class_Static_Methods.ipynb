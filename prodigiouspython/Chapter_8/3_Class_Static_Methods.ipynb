{
 "cells": [
  {
   "cell_type": "markdown",
   "id": "945f8333-09ad-4b4e-b03e-cbe1cbaced57",
   "metadata": {},
   "source": [
    "# ClassMethod and StaticMethod"
   ]
  },
  {
   "cell_type": "markdown",
   "id": "9c056145-cda0-4ef8-8b4d-41fd8bb93ba0",
   "metadata": {},
   "source": [
    "## ClassMethod"
   ]
  },
  {
   "cell_type": "markdown",
   "id": "38770d21-937b-4873-bcce-a93daeee1827",
   "metadata": {},
   "source": [
    "## StaticMethod"
   ]
  },
  {
   "cell_type": "markdown",
   "id": "a3fdce0c-78e0-439c-93ea-610356bfc172",
   "metadata": {},
   "source": [
    "StaticMethods are simple regular functions but are within the namespace/scope of the class. "
   ]
  }
 ],
 "metadata": {
  "kernelspec": {
   "display_name": "Python 3 (ipykernel)",
   "language": "python",
   "name": "python3"
  },
  "language_info": {
   "codemirror_mode": {
    "name": "ipython",
    "version": 3
   },
   "file_extension": ".py",
   "mimetype": "text/x-python",
   "name": "python",
   "nbconvert_exporter": "python",
   "pygments_lexer": "ipython3",
   "version": "3.9.7"
  }
 },
 "nbformat": 4,
 "nbformat_minor": 5
}
