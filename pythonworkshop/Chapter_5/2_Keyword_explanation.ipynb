{
 "cells": [
  {
   "cell_type": "markdown",
   "id": "3e8c13df-dac2-423b-a680-b28e47177412",
   "metadata": {
    "tags": []
   },
   "source": [
    "# Dive into each Keyword"
   ]
  },
  {
   "cell_type": "markdown",
   "id": "bd1579b5-1716-44cf-8c9f-95220a23d6f3",
   "metadata": {},
   "source": [
    "## False"
   ]
  },
  {
   "cell_type": "markdown",
   "id": "634b6f6e-cf42-487e-bd54-12b406545ea0",
   "metadata": {},
   "source": [
    "As we have already discussed about False in our earlier lessons 😅, still, lets have a recap! The name does self describes itself. False in a constant boolean value whose integer equivalent is 0. "
   ]
  },
  {
   "cell_type": "code",
   "execution_count": 1,
   "id": "82f78323-98d8-457e-9ae6-902cb4194e63",
   "metadata": {},
   "outputs": [
    {
     "name": "stdout",
     "output_type": "stream",
     "text": [
      "0\n"
     ]
    }
   ],
   "source": [
    "print(int(False))"
   ]
  },
  {
   "cell_type": "markdown",
   "id": "689b976b-6d17-4e64-bd82-fbdd85bb8938",
   "metadata": {},
   "source": [
    "We do get "
   ]
  }
 ],
 "metadata": {
  "kernelspec": {
   "display_name": "Python 3 (ipykernel)",
   "language": "python",
   "name": "python3"
  },
  "language_info": {
   "codemirror_mode": {
    "name": "ipython",
    "version": 3
   },
   "file_extension": ".py",
   "mimetype": "text/x-python",
   "name": "python",
   "nbconvert_exporter": "python",
   "pygments_lexer": "ipython3",
   "version": "3.9.5"
  }
 },
 "nbformat": 4,
 "nbformat_minor": 5
}
