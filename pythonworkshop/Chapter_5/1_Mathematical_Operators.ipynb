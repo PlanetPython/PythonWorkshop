{
 "cells": [
  {
   "cell_type": "markdown",
   "id": "0cf6b422-6a93-44c0-b2f7-dd37606b947e",
   "metadata": {
    "tags": []
   },
   "source": [
    "# Mathematical Operators"
   ]
  },
  {
   "cell_type": "markdown",
   "id": "3030f79a-76e5-4309-bf66-2d72cf877486",
   "metadata": {},
   "source": [
    "We do have a big set of mathematical operators in Python. let's have a look 😎"
   ]
  },
  {
   "cell_type": "markdown",
   "id": "8f55e551-672b-406b-bff1-6a0b54a04a95",
   "metadata": {},
   "source": [
    "Let's start with Addition, which is the one I am only good at 😜 JD!"
   ]
  },
  {
   "cell_type": "markdown",
   "id": "36787151-7c3c-443a-93a6-9144cb00dea2",
   "metadata": {},
   "source": [
    "## Addition"
   ]
  },
  {
   "cell_type": "markdown",
   "id": "a551555a-f77c-460f-b69a-9da88adcb543",
   "metadata": {},
   "source": [
    "Addition operator `+` is used to add two or more `integers`, `float`"
   ]
  }
 ],
 "metadata": {
  "kernelspec": {
   "display_name": "Python 3 (ipykernel)",
   "language": "python",
   "name": "python3"
  },
  "language_info": {
   "codemirror_mode": {
    "name": "ipython",
    "version": 3
   },
   "file_extension": ".py",
   "mimetype": "text/x-python",
   "name": "python",
   "nbconvert_exporter": "python",
   "pygments_lexer": "ipython3",
   "version": "3.9.5"
  }
 },
 "nbformat": 4,
 "nbformat_minor": 5
}
