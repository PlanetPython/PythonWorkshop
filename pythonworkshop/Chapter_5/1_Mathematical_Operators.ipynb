{
 "cells": [
  {
   "cell_type": "markdown",
   "id": "0cf6b422-6a93-44c0-b2f7-dd37606b947e",
   "metadata": {
    "tags": []
   },
   "source": [
    "# Mathematical Operators"
   ]
  },
  {
   "cell_type": "markdown",
   "id": "3030f79a-76e5-4309-bf66-2d72cf877486",
   "metadata": {},
   "source": [
    "We do have a big set of mathematical operators in Python. let's have a look 😎"
   ]
  },
  {
   "cell_type": "markdown",
   "id": "8f55e551-672b-406b-bff1-6a0b54a04a95",
   "metadata": {},
   "source": [
    "Let's start with Addition, which is the only one I am good at 😜 JD!"
   ]
  },
  {
   "cell_type": "markdown",
   "id": "36787151-7c3c-443a-93a6-9144cb00dea2",
   "metadata": {},
   "source": [
    "## Addition"
   ]
  },
  {
   "cell_type": "markdown",
   "id": "a551555a-f77c-460f-b69a-9da88adcb543",
   "metadata": {},
   "source": [
    "Addition operator `+` is used to add two or more `bool`, `int`, `float`, `complex`, `list`, `tuple`, `set`, `str` etc.."
   ]
  },
  {
   "cell_type": "markdown",
   "id": "e5f1a023-025f-43c2-a81e-61baee094447",
   "metadata": {},
   "source": [
    "🙄 If you are wondering does addition operator `+` does a lot of stuff mentioned above? Yep, it does, isn't that cool 😎? That's the flexibility provided by our beloved Python 🐍."
   ]
  },
  {
   "cell_type": "markdown",
   "id": "d2aa0c28-ca8c-448e-9811-4e4aa65d1c3f",
   "metadata": {},
   "source": [
    "Let's go through each example 😊"
   ]
  },
  {
   "cell_type": "code",
   "execution_count": 2,
   "id": "994ed3a2-dcfc-47c3-a56b-f5c48113f99d",
   "metadata": {},
   "outputs": [],
   "source": [
    "# Let's create a few attributes of different datatypes.\n",
    "\n",
    "# Integers.\n",
    "integer_a: int = 2\n",
    "integer_b: int = 6\n",
    "\n",
    "# Floats.\n",
    "float_a: float = 1.4\n",
    "float_b: float = 5.2\n",
    "\n",
    "# complex.\n",
    "complex_a: complex = 2 + 9j\n",
    "complex_b: complex = 9 - 1j\n",
    "\n",
    "# list.\n",
    "list_a: list = [1, 2, 3]\n",
    "list_b: list = [4, 5, 6]\n",
    "\n",
    "# tuple.\n",
    "tuple_a: tuple = (1, 2, 3)\n",
    "tuple_b: tuple = (4, 5, 6)\n",
    "\n",
    "# set.\n",
    "set_a: set = {1, 2, 3}\n",
    "set_b: set = {4, 5, 6}\n",
    "\n",
    "# str.\n",
    "str_a: str = \"Hey \"\n",
    "str_b: str = \"Pythonist 🐍\""
   ]
  },
  {
   "cell_type": "markdown",
   "id": "1a088bea-c2d2-4066-bb9d-95c7bb86f597",
   "metadata": {},
   "source": [
    "Wohooo! We successfully created many attributes of different datatypes. Let's start using the Addition `+` operator on them"
   ]
  },
  {
   "cell_type": "markdown",
   "id": "23ba9f24-fbea-43bb-8d17-43be77609918",
   "metadata": {},
   "source": [
    "### Addition of integers"
   ]
  },
  {
   "cell_type": "code",
   "execution_count": 3,
   "id": "d88aa1a5-f8f7-4364-88ad-80ea0a255b01",
   "metadata": {},
   "outputs": [
    {
     "name": "stdout",
     "output_type": "stream",
     "text": [
      "8\n"
     ]
    }
   ],
   "source": [
    "print(integer_a+integer_b)"
   ]
  },
  {
   "cell_type": "markdown",
   "id": "ef648c9c-2c66-4653-9bc3-be29d9304c7e",
   "metadata": {},
   "source": [
    "### Addition of Floats"
   ]
  },
  {
   "cell_type": "code",
   "execution_count": 4,
   "id": "09ee3b7d-0a08-410c-985c-dbbe26381b2a",
   "metadata": {},
   "outputs": [
    {
     "name": "stdout",
     "output_type": "stream",
     "text": [
      "6.6\n"
     ]
    }
   ],
   "source": [
    "print(float_a+float_b)"
   ]
  },
  {
   "cell_type": "markdown",
   "id": "8ab04fbb-4169-44a4-8611-e05663ae21eb",
   "metadata": {},
   "source": [
    "### Addition of Complex"
   ]
  },
  {
   "cell_type": "code",
   "execution_count": 5,
   "id": "eb4b162e-e2b6-44df-b516-cf0013af0354",
   "metadata": {},
   "outputs": [
    {
     "name": "stdout",
     "output_type": "stream",
     "text": [
      "(11+8j)\n"
     ]
    }
   ],
   "source": [
    "print(complex_a+complex_b)"
   ]
  },
  {
   "cell_type": "markdown",
   "id": "8b5744c7-2e70-4ac0-a27b-13c107f09fb5",
   "metadata": {},
   "source": [
    "There's no restriction on the operands type here, we can even add integers with floats, integers with complex, float with complex"
   ]
  },
  {
   "cell_type": "code",
   "execution_count": 9,
   "id": "eed253a6-36c5-440a-882c-56564ba772f8",
   "metadata": {},
   "outputs": [
    {
     "name": "stdout",
     "output_type": "stream",
     "text": [
      "3.4\n",
      "(4+9j)\n",
      "(3.4+9j)\n"
     ]
    }
   ],
   "source": [
    "# Integer with float.\n",
    "int_with_float = integer_a+float_a\n",
    "print(int_with_float)\n",
    "\n",
    "# Integer with complex.\n",
    "int_with_complex = integer_a+complex_a\n",
    "print(int_with_complex)\n",
    "\n",
    "# Float with complex\n",
    "float_with_complex = float_a+complex_a\n",
    "print(float_with_complex)"
   ]
  },
  {
   "cell_type": "markdown",
   "id": "fb3b95fc-dc30-48d6-8902-ff56c9f22aec",
   "metadata": {},
   "source": [
    "Let's check the datatype of the above results `int_with_float`, `int_with_complex`, '`float_with_complex`"
   ]
  },
  {
   "cell_type": "code",
   "execution_count": 11,
   "id": "9f5b345d-6560-4536-baef-1fd539b04761",
   "metadata": {},
   "outputs": [
    {
     "name": "stdout",
     "output_type": "stream",
     "text": [
      "type(int_with_float)=<class 'float'>\n",
      "type(int_with_complex)=<class 'complex'>\n",
      "type(float_with_complex)=<class 'complex'>\n"
     ]
    }
   ],
   "source": [
    "print(f\"{type(int_with_float)=}\")\n",
    "print(f\"{type(int_with_complex)=}\")\n",
    "print(f\"{type(float_with_complex)=}\")"
   ]
  },
  {
   "cell_type": "markdown",
   "id": "1a5547ce-f612-4f76-9160-4c2c6df355ba",
   "metadata": {},
   "source": [
    "#### 💡 Note"
   ]
  },
  {
   "cell_type": "markdown",
   "id": "f9315e26-24f8-483b-aa01-faa7c711649a",
   "metadata": {},
   "source": [
    "In the above print function we have used `=` in the f-strings, which prints the output as `<expression>=<expression_result>`. \n",
    "\n",
    "In simple terms using `=` in the f-strings make the above print function equivalent to:"
   ]
  },
  {
   "cell_type": "code",
   "execution_count": 14,
   "id": "bc7f067c-2738-485f-9475-954784a6484a",
   "metadata": {},
   "outputs": [
    {
     "name": "stdout",
     "output_type": "stream",
     "text": [
      "type(int_with_float)=<class 'float'>\n"
     ]
    }
   ],
   "source": [
    "print(f\"type(int_with_float)={type(int_with_float)}\")"
   ]
  },
  {
   "cell_type": "markdown",
   "id": "c3653435-ebe5-460a-a7ba-c0dca2b7191f",
   "metadata": {},
   "source": [
    "We see that the results datatype is changed in the above cases with respect to addition of integer with complex and float with complex. Thanks to Python again, it does take care of result datatype dynamically. \n",
    "\n",
    "The final result would be of datatype equal to the highest precedence of the below \n",
    "\n",
    "`complex` > `float` > `int`"
   ]
  }
 ],
 "metadata": {
  "kernelspec": {
   "display_name": "Python 3 (ipykernel)",
   "language": "python",
   "name": "python3"
  },
  "language_info": {
   "codemirror_mode": {
    "name": "ipython",
    "version": 3
   },
   "file_extension": ".py",
   "mimetype": "text/x-python",
   "name": "python",
   "nbconvert_exporter": "python",
   "pygments_lexer": "ipython3",
   "version": "3.9.5"
  }
 },
 "nbformat": 4,
 "nbformat_minor": 5
}
