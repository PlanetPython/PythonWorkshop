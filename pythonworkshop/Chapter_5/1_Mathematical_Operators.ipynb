{
 "cells": [
  {
   "cell_type": "markdown",
   "id": "0cf6b422-6a93-44c0-b2f7-dd37606b947e",
   "metadata": {
    "tags": []
   },
   "source": [
    "# Mathematical Operators"
   ]
  },
  {
   "cell_type": "markdown",
   "id": "3030f79a-76e5-4309-bf66-2d72cf877486",
   "metadata": {},
   "source": [
    "We do have a big set of mathematical operators in Python. let's have a look 😎"
   ]
  },
  {
   "cell_type": "markdown",
   "id": "8f55e551-672b-406b-bff1-6a0b54a04a95",
   "metadata": {},
   "source": [
    "Let's start with Addition, which is the only one I am good at 😜 JD!"
   ]
  },
  {
   "cell_type": "markdown",
   "id": "36787151-7c3c-443a-93a6-9144cb00dea2",
   "metadata": {},
   "source": [
    "## Addition"
   ]
  },
  {
   "cell_type": "markdown",
   "id": "a551555a-f77c-460f-b69a-9da88adcb543",
   "metadata": {},
   "source": [
    "Addition operator `+` is used to add two or more `bool`, `int`, `float`, `complex`, `list`, `tuple`, `set`, `str` etc.."
   ]
  },
  {
   "cell_type": "markdown",
   "id": "e5f1a023-025f-43c2-a81e-61baee094447",
   "metadata": {},
   "source": [
    "🙄 If you are wondering does addition operator `+` does a lot of stuff? Yep, it does, isn't that cool 😎? That's the flexibility provided by our beloved Python 🐍."
   ]
  },
  {
   "cell_type": "markdown",
   "id": "d2aa0c28-ca8c-448e-9811-4e4aa65d1c3f",
   "metadata": {},
   "source": [
    "Let's go through each example 😊"
   ]
  },
  {
   "cell_type": "code",
   "execution_count": null,
   "id": "994ed3a2-dcfc-47c3-a56b-f5c48113f99d",
   "metadata": {},
   "outputs": [],
   "source": [
    "# Let's create a few attributes of different datatypes\n",
    "\n",
    "# Integers\n",
    "integer_a: int = 2\n",
    "integer_b: int = 6\n",
    "\n",
    "# Floats\n",
    "float_a: float = 1.4\n",
    "float_b: float = 5.2\n",
    "\n",
    "# complex\n",
    "complex_a: complex = 2 + 9j\n",
    "complex_b: complex = 9 - 1j\n",
    "\n",
    "# list\n",
    "list_a: list = [1, 2, 3]\n",
    "list_b: list = [4, 5, 6]\n",
    "\n",
    "# tuple\n",
    "tuple_a: tuple = (1, 2, 3)\n",
    "tuple_b: tuple = (4, 5, 6)\n",
    "\n",
    "# set\n",
    "set_a: set = {1, 2, 3}\n",
    "set_b: set = {4, 5, 6}\n",
    "\n",
    "# str\n",
    "str_a: str = \"Hey \"\n",
    "str_b: str = \"Pythonist 🐍\""
   ]
  },
  {
   "cell_type": "markdown",
   "id": "1a088bea-c2d2-4066-bb9d-95c7bb86f597",
   "metadata": {},
   "source": [
    "Wohooo! We successfully created many attributes of different datatypes. Let's start using the Addition `+` operator on them"
   ]
  }
 ],
 "metadata": {
  "kernelspec": {
   "display_name": "Python 3 (ipykernel)",
   "language": "python",
   "name": "python3"
  },
  "language_info": {
   "codemirror_mode": {
    "name": "ipython",
    "version": 3
   },
   "file_extension": ".py",
   "mimetype": "text/x-python",
   "name": "python",
   "nbconvert_exporter": "python",
   "pygments_lexer": "ipython3",
   "version": "3.9.5"
  }
 },
 "nbformat": 4,
 "nbformat_minor": 5
}
