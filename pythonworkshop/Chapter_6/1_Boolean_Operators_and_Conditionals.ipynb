{
 "cells": [
  {
   "cell_type": "markdown",
   "id": "f4a19ed1-dead-4a48-9fad-3bf6346b4e18",
   "metadata": {},
   "source": [
    "# Boolean Operators and Conditionals"
   ]
  },
  {
   "cell_type": "markdown",
   "id": "a627b8be-f543-4a55-9329-96d800dd9537",
   "metadata": {},
   "source": [
    "My first programming language was C language, Where I got to meet our boolean operator friends which are `&&` for `and`, `||` for `or` and `!` for `not`. I was like why symbols, can we just use `and`, `or` and `not`?"
   ]
  },
  {
   "cell_type": "markdown",
   "id": "e075f2c1-5fa3-4b2d-9250-6557612a3ca9",
   "metadata": {},
   "source": [
    "Then I got myself introduced to the `Python`. The readability of code in Python is top-notch compared to other languages, which holds good even for boolean operators `and`, `or`, and `not` 😎."
   ]
  },
  {
   "cell_type": "markdown",
   "id": "e1e62861-6401-45f4-8f50-cb19d1eb73b1",
   "metadata": {},
   "source": [
    "![Incredibles AND OR NOT are same](https://github.com/ProdigiousPython/AssetStore/blob/main/Chapters_6-10/Chapter_6/incredibles_and_or_not.jpg?raw=true)"
   ]
  },
  {
   "cell_type": "markdown",
   "id": "8a3657be-8976-4f4b-8519-880830d3043c",
   "metadata": {},
   "source": [
    "Yup! In Python, boolean operators `and`, `or` and `not` are themselves instead of symbols."
   ]
  },
  {
   "cell_type": "markdown",
   "id": "adfe68a4-8e30-40cc-999a-19a83009a3d4",
   "metadata": {},
   "source": [
    "Let's get to know more about Boolean operators in Python!"
   ]
  }
 ],
 "metadata": {
  "kernelspec": {
   "display_name": "Python 3 (ipykernel)",
   "language": "python",
   "name": "python3"
  },
  "language_info": {
   "codemirror_mode": {
    "name": "ipython",
    "version": 3
   },
   "file_extension": ".py",
   "mimetype": "text/x-python",
   "name": "python",
   "nbconvert_exporter": "python",
   "pygments_lexer": "ipython3",
   "version": "3.9.5"
  }
 },
 "nbformat": 4,
 "nbformat_minor": 5
}
