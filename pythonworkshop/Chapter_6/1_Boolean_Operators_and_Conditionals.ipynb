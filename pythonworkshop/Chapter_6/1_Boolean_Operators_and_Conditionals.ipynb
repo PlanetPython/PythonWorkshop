{
 "cells": [
  {
   "cell_type": "markdown",
   "id": "f4a19ed1-dead-4a48-9fad-3bf6346b4e18",
   "metadata": {},
   "source": [
    "# Boolean Operators and Conditionals"
   ]
  }
 ],
 "metadata": {
  "kernelspec": {
   "display_name": "Python 3 (ipykernel)",
   "language": "python",
   "name": "python3"
  },
  "language_info": {
   "codemirror_mode": {
    "name": "ipython",
    "version": 3
   },
   "file_extension": ".py",
   "mimetype": "text/x-python",
   "name": "python",
   "nbconvert_exporter": "python",
   "pygments_lexer": "ipython3",
   "version": "3.9.5"
  }
 },
 "nbformat": 4,
 "nbformat_minor": 5
}
