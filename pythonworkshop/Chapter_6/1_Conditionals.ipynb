{
 "cells": [
  {
   "cell_type": "markdown",
   "id": "fae9b736-ea7d-4e0f-a6a5-a2009302eae2",
   "metadata": {},
   "source": [
    "# Conditionals"
   ]
  },
  {
   "cell_type": "markdown",
   "id": "8b935ca2-2204-41a6-9f2f-0b998b2daa64",
   "metadata": {},
   "source": [
    "Conditionals help us to change the flow of the code at the runtime. The three conditional keywords are `if`, `else`, `elif`."
   ]
  },
  {
   "cell_type": "markdown",
   "id": "b0c152d0-e85f-4083-8746-b98025301e6c",
   "metadata": {},
   "source": [
    "Here's again we need to praise the readability 🙂, `if`, `else`, `elif` are pretty english words, just that elif is the short-hand keyword of else-if."
   ]
  },
  {
   "cell_type": "markdown",
   "id": "d3077cd5-6797-478a-947d-fab5ef44eda7",
   "metadata": {},
   "source": [
    "Let's start with the `if` condition... "
   ]
  },
  {
   "cell_type": "markdown",
   "id": "74c3db64-f648-47db-84fc-5961b1659b52",
   "metadata": {},
   "source": [
    "## `if`"
   ]
  },
  {
   "cell_type": "markdown",
   "id": "8d98f19e-1ee7-4a98-a44b-f057e95eb97e",
   "metadata": {},
   "source": [
    "The syntax of `if` is:"
   ]
  },
  {
   "cell_type": "markdown",
   "id": "f00c5814-ce96-433a-a62b-39ec3febaa55",
   "metadata": {},
   "source": [
    "```Python\n",
    "if <expression>:\n",
    "    # Do stuff here.\n",
    "    ...\n",
    "```"
   ]
  },
  {
   "cell_type": "markdown",
   "id": "1803cfd0-d6ba-404f-9890-7109b71145ef",
   "metadata": {},
   "source": [
    "In the earlier chapters, we have learnt about `Truth value testing`, `if` absolutely works based on the truth value of the operand."
   ]
  },
  {
   "cell_type": "markdown",
   "id": "ff1ee370-4810-4600-8c10-65e6fe369759",
   "metadata": {},
   "source": [
    "If the expression results in Truth value equivalent to `True`, then our interpreter gets into the block of code written in the `if` block, else it skips the `if` block."
   ]
  },
  {
   "cell_type": "code",
   "execution_count": 2,
   "id": "de0626af-c7a9-4e3a-829a-92f10981ba5a",
   "metadata": {},
   "outputs": [
    {
     "name": "stdout",
     "output_type": "stream",
     "text": [
      "Yup!, 3 is greater than 1\n"
     ]
    }
   ],
   "source": [
    "if 3 > 1:\n",
    "    print(\"Yup!, 3 is greater than 1\")"
   ]
  },
  {
   "cell_type": "markdown",
   "id": "3fa3a58c-177c-4c50-94ab-e0661e26f236",
   "metadata": {},
   "source": [
    "`One more:`"
   ]
  },
  {
   "cell_type": "code",
   "execution_count": 5,
   "id": "83f667ee-db56-4da2-9056-5df19ba230e7",
   "metadata": {},
   "outputs": [
    {
     "name": "stdout",
     "output_type": "stream",
     "text": [
      "The result is True\n",
      "tuple_1 is greater than tuple_2\n",
      "The result_2 is False\n"
     ]
    }
   ],
   "source": [
    "# Just for demonstration, we are doing a bit long way.\n",
    "tuple_1 = (3, 2, 1)\n",
    "tuple_2 = (1, 2, 3)\n",
    "\n",
    "result = tuple_1 > tuple_2\n",
    "print(f\"The result is {result}\")\n",
    "if result:\n",
    "    print(\"tuple_1 is greater than tuple_2\")\n",
    "\n",
    "result_2 = tuple_1 < tuple_2\n",
    "print(f\"The result_2 is {result_2}\")\n",
    "if result_2:\n",
    "    print(\"😬 The interpreter doesn't run this code\")"
   ]
  },
  {
   "cell_type": "markdown",
   "id": "c2579132-8a3a-4d12-bb95-4b5c311d738c",
   "metadata": {},
   "source": [
    "In the above example, we can see that `result` value is `True` which made the `if` condition satisfy and the print function saying `tuple_1 is greater than tuple_2` is executed, but our `result_2` value is `False`, and hence the print function in the second `if` condition didn't get executed as we thought 😊."
   ]
  },
  {
   "cell_type": "markdown",
   "id": "4da26941-b44d-4b2e-b30d-3b99c61d67c5",
   "metadata": {},
   "source": [
    "`On a list containing few objects`"
   ]
  },
  {
   "cell_type": "code",
   "execution_count": 8,
   "id": "3fb5d6dc-673c-4fe8-8ace-fcf028b70048",
   "metadata": {},
   "outputs": [
    {
     "name": "stdout",
     "output_type": "stream",
     "text": [
      "I am inside of the if block\n"
     ]
    }
   ],
   "source": [
    "my_list = [1, 2, None, \"abc\", \"🐍\"]\n",
    "if my_list:\n",
    "    print(\"I am inside of the if block\")"
   ]
  },
  {
   "cell_type": "markdown",
   "id": "f69bcd9e-8e21-4e25-aa08-ddbce2ef71e3",
   "metadata": {},
   "source": [
    "We see that the print function is excuted as the Truth value of list containing objects is `True`."
   ]
  },
  {
   "cell_type": "markdown",
   "id": "fb37d941-3a8b-40a0-b48a-22830e5aba21",
   "metadata": {},
   "source": [
    "`On empty list`"
   ]
  },
  {
   "cell_type": "code",
   "execution_count": 10,
   "id": "94f650fa-861a-47d9-a6d5-86c6fe380cc4",
   "metadata": {},
   "outputs": [],
   "source": [
    "empty_list = []\n",
    "if empty_list:\n",
    "    print(\"Nah! I won't get executed\")"
   ]
  },
  {
   "cell_type": "markdown",
   "id": "67a3ebdc-d898-4aeb-af26-64e81ca5985d",
   "metadata": {},
   "source": [
    "We see there's no output generated in the above example, as Truth value of empty list is `False`."
   ]
  },
  {
   "cell_type": "markdown",
   "id": "f7d6d8f5-bc4b-426e-8929-06efbc89c598",
   "metadata": {},
   "source": [
    "```{hint}\n",
    "Truth value of an object can be found using `bool(<obj>)`.\n",
    "```"
   ]
  }
 ],
 "metadata": {
  "kernelspec": {
   "display_name": "Python 3 (ipykernel)",
   "language": "python",
   "name": "python3"
  },
  "language_info": {
   "codemirror_mode": {
    "name": "ipython",
    "version": 3
   },
   "file_extension": ".py",
   "mimetype": "text/x-python",
   "name": "python",
   "nbconvert_exporter": "python",
   "pygments_lexer": "ipython3",
   "version": "3.9.5"
  }
 },
 "nbformat": 4,
 "nbformat_minor": 5
}
