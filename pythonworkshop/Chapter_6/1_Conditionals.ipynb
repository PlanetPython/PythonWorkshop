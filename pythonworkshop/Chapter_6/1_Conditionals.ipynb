{
 "cells": [
  {
   "cell_type": "markdown",
   "id": "fae9b736-ea7d-4e0f-a6a5-a2009302eae2",
   "metadata": {},
   "source": [
    "# Conditionals"
   ]
  },
  {
   "cell_type": "markdown",
   "id": "8b935ca2-2204-41a6-9f2f-0b998b2daa64",
   "metadata": {},
   "source": [
    "Conditionals help us to change the flow of the code at the runtime. The three conditional keywords are `if`, `else`, `elif`."
   ]
  },
  {
   "cell_type": "markdown",
   "id": "b0c152d0-e85f-4083-8746-b98025301e6c",
   "metadata": {},
   "source": [
    "Here's again we need to praise the readability 🙂l, `if`, `else`, `elif` are pretty english words, just that elif is the short-hand keyword of else-if."
   ]
  },
  {
   "cell_type": "markdown",
   "id": "d3077cd5-6797-478a-947d-fab5ef44eda7",
   "metadata": {},
   "source": [
    "Let's start with the `if` condition..."
   ]
  },
  {
   "cell_type": "markdown",
   "id": "1037f196-0466-4fae-80f5-9d6e58f37946",
   "metadata": {},
   "source": [
    "## `if`"
   ]
  }
 ],
 "metadata": {
  "kernelspec": {
   "display_name": "Python 3 (ipykernel)",
   "language": "python",
   "name": "python3"
  },
  "language_info": {
   "codemirror_mode": {
    "name": "ipython",
    "version": 3
   },
   "file_extension": ".py",
   "mimetype": "text/x-python",
   "name": "python",
   "nbconvert_exporter": "python",
   "pygments_lexer": "ipython3",
   "version": "3.9.5"
  }
 },
 "nbformat": 4,
 "nbformat_minor": 5
}
