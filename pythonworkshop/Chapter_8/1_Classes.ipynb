{
 "cells": [
  {
   "cell_type": "markdown",
   "id": "575f27e6-d67a-46b1-a288-c09ea0348a94",
   "metadata": {},
   "source": [
    "# Class"
   ]
  },
  {
   "cell_type": "markdown",
   "id": "47f3d59a-2df7-433c-8cbb-ecadf5271b46",
   "metadata": {},
   "source": [
    "As Python 🐍 is a Object Oriented Programming Language, we get the fruits like Inheritance, Encapsulation, Polymorphism and Data Abstraction. If you are already familiar with other OOP languages like C++, Java you might have already heard of these scaring jargons, if not, don't worry, let's get to know about them in simple funny terms."
   ]
  },
  {
   "cell_type": "markdown",
   "id": "1f61e0d9-c316-428c-81a3-f8452efa31a6",
   "metadata": {},
   "source": [
    "## What the heck is class 🤔?"
   ]
  },
  {
   "cell_type": "markdown",
   "id": "dcb82c8f-e67f-43c8-bd46-ad65d0c449b9",
   "metadata": {},
   "source": [
    "A class is a blueprint which describes the data and various methods which help to manipulate or use the data specific to it."
   ]
  },
  {
   "cell_type": "markdown",
   "id": "471cc395-0f83-45f0-9e65-c803ee87822c",
   "metadata": {},
   "source": [
    "A class is created using the Keyword `class`."
   ]
  },
  {
   "cell_type": "markdown",
   "id": "b9c26d84-a914-4ead-9e9d-6aac5f064be5",
   "metadata": {},
   "source": [
    "Let's start by creating a simplest possible class 😎"
   ]
  },
  {
   "cell_type": "code",
   "execution_count": 1,
   "id": "4b93c9b5-f0e2-4311-9ef1-20b15218a342",
   "metadata": {},
   "outputs": [],
   "source": [
    "class IAmASimpleClass:\n",
    "    pass"
   ]
  },
  {
   "cell_type": "markdown",
   "id": "d29fb526-f2e4-4934-9817-c3a139065f5c",
   "metadata": {},
   "source": [
    "Yipee! We did it 😬. Let's confirm it 👇"
   ]
  },
  {
   "cell_type": "code",
   "execution_count": 8,
   "id": "ac0b2b88-6f8b-489c-bb68-0d1e5501cd85",
   "metadata": {},
   "outputs": [
    {
     "name": "stdout",
     "output_type": "stream",
     "text": [
      "IAmASimpleClass is class: True\n"
     ]
    }
   ],
   "source": [
    "import inspect\n",
    "\n",
    "print(f\"IAmASimpleClass is class: {inspect.isclass(IAmASimpleClass)}\")"
   ]
  },
  {
   "cell_type": "markdown",
   "id": "f129f002-053d-4978-b9a3-5ed9373a5e02",
   "metadata": {},
   "source": [
    "```{hint}\n",
    "`isclass` function of `inspect` module is used to check whether the object/argument is class or not, If class, returns `True`, else `False`.\n",
    "```"
   ]
  },
  {
   "cell_type": "markdown",
   "id": "8dfbad51-3a5a-4a0d-8e5a-76ca792cadb6",
   "metadata": {},
   "source": [
    "As in our `IAmASimpleClass` we haven't written any code inside it, we might think there is neither data nor methods associated with it, but that's not the case. There are methods associated with our class 🔍. let's check it."
   ]
  },
  {
   "cell_type": "markdown",
   "id": "c3ef9461-2b50-4e87-9f93-ada9e2806f6a",
   "metadata": {},
   "source": [
    "We will be using `dir` function to get to know all the attributes associated with our class"
   ]
  },
  {
   "cell_type": "code",
   "execution_count": 5,
   "id": "48e1505e-fea0-48e0-b328-ce31afec8c30",
   "metadata": {},
   "outputs": [
    {
     "data": {
      "text/plain": [
       "['__class__',\n",
       " '__delattr__',\n",
       " '__dict__',\n",
       " '__dir__',\n",
       " '__doc__',\n",
       " '__eq__',\n",
       " '__format__',\n",
       " '__ge__',\n",
       " '__getattribute__',\n",
       " '__gt__',\n",
       " '__hash__',\n",
       " '__init__',\n",
       " '__init_subclass__',\n",
       " '__le__',\n",
       " '__lt__',\n",
       " '__module__',\n",
       " '__ne__',\n",
       " '__new__',\n",
       " '__reduce__',\n",
       " '__reduce_ex__',\n",
       " '__repr__',\n",
       " '__setattr__',\n",
       " '__sizeof__',\n",
       " '__str__',\n",
       " '__subclasshook__',\n",
       " '__weakref__']"
      ]
     },
     "execution_count": 5,
     "metadata": {},
     "output_type": "execute_result"
    }
   ],
   "source": [
    "dir(IAmASimpleClass)"
   ]
  },
  {
   "cell_type": "markdown",
   "id": "067a9e41-3129-40ee-82c2-cc70cc6eb546",
   "metadata": {},
   "source": [
    "Yup, we see few things are present. But from where did we get those? I am sure, there's no magic here. It's time to be a detective 🕵"
   ]
  },
  {
   "cell_type": "markdown",
   "id": "483dca2c-74cd-4ffe-9ae9-fe48af1cd199",
   "metadata": {},
   "source": [
    "We all must have already heard or read that **In Python everything is an Object**. Well, the culprit in the above example is the class `object` ⚔️. All the above attributes or methods in the output are inherited from the class `object`. In Python3, by default every class inherits `object` class."
   ]
  },
  {
   "cell_type": "code",
   "execution_count": 6,
   "id": "41f6dc21-9862-4b55-9ec5-7edc974c5bdf",
   "metadata": {},
   "outputs": [],
   "source": [
    "class IAmASimpleClass:  # Python3 takes care of inheriting object.\n",
    "    pass\n",
    "\n",
    "\n",
    "class IAmASimpleClass(object):  # We can explicitly inherit object, although not required.\n",
    "    pass"
   ]
  },
  {
   "cell_type": "markdown",
   "id": "9dbe9df7-f1a6-42dd-9e31-90a74393d8a2",
   "metadata": {},
   "source": [
    "Both the above classes are pretty much equal. Feel free to use any of those, If you are as lazy as me, I would recommend you to use the first method(New-Style classes) and let Python take care of inheriting `object` for us."
   ]
  },
  {
   "cell_type": "markdown",
   "id": "2be816c2-59bb-499b-b06c-f7ce09c9e37a",
   "metadata": {},
   "source": [
    "```{note}\n",
    "Second method of inheriting object is generally used if we want to use code which is agnostic to both Python3 and Python2. But let's not get confused with Python2 way of creating classes \"classic-way\" and \"new-style\" as Python2 is already passed EOL and dead.\n",
    "```"
   ]
  },
  {
   "cell_type": "markdown",
   "id": "b7f7dc84-7cef-4311-9531-c011d3ffe89d",
   "metadata": {},
   "source": [
    "Yup, we got our answer, All the attributes or methods which we saw in our output are from the class `object`. 😊"
   ]
  }
 ],
 "metadata": {
  "kernelspec": {
   "display_name": "Python 3 (ipykernel)",
   "language": "python",
   "name": "python3"
  },
  "language_info": {
   "codemirror_mode": {
    "name": "ipython",
    "version": 3
   },
   "file_extension": ".py",
   "mimetype": "text/x-python",
   "name": "python",
   "nbconvert_exporter": "python",
   "pygments_lexer": "ipython3",
   "version": "3.9.7"
  }
 },
 "nbformat": 4,
 "nbformat_minor": 5
}
