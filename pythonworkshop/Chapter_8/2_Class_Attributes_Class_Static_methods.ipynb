{
 "cells": [
  {
   "cell_type": "markdown",
   "id": "2b944c90-23e7-4924-ad34-dbe3c4bd38b2",
   "metadata": {},
   "source": [
    "# Class Attributes, Class Methods and Static Methods"
   ]
  },
  {
   "cell_type": "markdown",
   "id": "cbcf4f76-52e4-4972-8196-2ad3f5f58072",
   "metadata": {},
   "source": [
    "In our earlier lesson, we got to learn about instance attributes. Here let's learn about class Attributes 😎"
   ]
  },
  {
   "cell_type": "markdown",
   "id": "adb965a9-78b7-4a5b-8a4a-ffdd21588f44",
   "metadata": {},
   "source": [
    "Class Attributes are cousins of Instance Attributes 😬. Just kidding, As Instance attributes are bound to instances/objects, Class attributes are bound to the Class itself."
   ]
  },
  {
   "cell_type": "markdown",
   "id": "6402bd62-bb78-4dcc-8b1e-f5822ae16609",
   "metadata": {},
   "source": [
    "![Class vs Instance attributes](https://github.com/ProdigiousPython/AssetStore/blob/main/Chapters_6-10/Chapter_8/Class_Instance_Attributes.png?raw=true)"
   ]
  },
  {
   "cell_type": "markdown",
   "id": "1f76085d-e687-4cc8-ae53-b9ff7a411a09",
   "metadata": {},
   "source": [
    "**Code speaks louder than words 🥁**. Let's get into an example 🙂: "
   ]
  }
 ],
 "metadata": {
  "kernelspec": {
   "display_name": "Python 3 (ipykernel)",
   "language": "python",
   "name": "python3"
  },
  "language_info": {
   "codemirror_mode": {
    "name": "ipython",
    "version": 3
   },
   "file_extension": ".py",
   "mimetype": "text/x-python",
   "name": "python",
   "nbconvert_exporter": "python",
   "pygments_lexer": "ipython3",
   "version": "3.9.7"
  }
 },
 "nbformat": 4,
 "nbformat_minor": 5
}
