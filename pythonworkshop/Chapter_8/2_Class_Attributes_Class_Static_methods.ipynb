{
 "cells": [
  {
   "cell_type": "markdown",
   "id": "2b944c90-23e7-4924-ad34-dbe3c4bd38b2",
   "metadata": {},
   "source": [
    "# Class Attributes, Class Methods and Static Methods"
   ]
  },
  {
   "cell_type": "markdown",
   "id": "58015b21-c798-4c53-8ede-e1d8d435b60b",
   "metadata": {},
   "source": [
    "## Class Attributes"
   ]
  },
  {
   "cell_type": "markdown",
   "id": "cbcf4f76-52e4-4972-8196-2ad3f5f58072",
   "metadata": {},
   "source": [
    "In our earlier lesson, we got to learn about instance attributes. Here let's learn about class Attributes 😎"
   ]
  },
  {
   "cell_type": "markdown",
   "id": "1594ed4a-1b00-416c-8cc9-863473df44b5",
   "metadata": {},
   "source": [
    "Class Attributes are cousins of Instance Attributes 😬. Just kidding."
   ]
  },
  {
   "cell_type": "markdown",
   "id": "c1ca7469-93ee-4a4e-ad6b-1dec2e160a45",
   "metadata": {},
   "source": [
    "As Instance attributes are bound to instances/objects, Class attributes are bound to the Class itself."
   ]
  },
  {
   "cell_type": "markdown",
   "id": "f1c6bafa-bbf9-47c3-bbbb-69cf11006929",
   "metadata": {},
   "source": [
    "![Class vs Instance attributes](https://github.com/ProdigiousPython/AssetStore/blob/main/Chapters_6-10/Chapter_8/Class_Instance_Attributes.png?raw=true)"
   ]
  },
  {
   "cell_type": "markdown",
   "id": "1f76085d-e687-4cc8-ae53-b9ff7a411a09",
   "metadata": {},
   "source": [
    "**Code speaks louder than words 🥁**. Let's get into an example 🙂: "
   ]
  },
  {
   "cell_type": "code",
   "execution_count": 2,
   "id": "a9684aaf-4734-4b94-b228-2be25264ebe9",
   "metadata": {},
   "outputs": [],
   "source": [
    "class SuperMarket:\n",
    "    discount = 0  # Here's the class attribute.\n",
    "\n",
    "    def __init__(self, item_price):\n",
    "        self.item_price = item_price\n",
    "\n",
    "    def get_bill(self):\n",
    "        return self.item_price - ((SuperMarket.discount / 100) * self.item_price)"
   ]
  },
  {
   "cell_type": "markdown",
   "id": "e940a07c-c8be-4edb-97ab-13862e306633",
   "metadata": {},
   "source": [
    "We have created a class `SuperMarket` and it contains a variable called `discount`, well this is the Class Attribute that we are going to explore."
   ]
  },
  {
   "cell_type": "markdown",
   "id": "dfbfe0d0-2001-4d79-843c-e1dbc4c7343b",
   "metadata": {},
   "source": [
    "As we learned that Class Attributes are bound to class whereas Instance Attributes are bound to instance, lets explore it first."
   ]
  },
  {
   "cell_type": "markdown",
   "id": "663efe29-d202-484b-bbdd-1fd94b9738d0",
   "metadata": {},
   "source": [
    "### Checking if Instance attribute is bound to Class?"
   ]
  },
  {
   "cell_type": "code",
   "execution_count": 12,
   "id": "fd02d287-7cca-452f-a810-d908b86f6e8f",
   "metadata": {},
   "outputs": [
    {
     "ename": "AttributeError",
     "evalue": "type object 'SuperMarket' has no attribute 'item_price'",
     "output_type": "error",
     "traceback": [
      "\u001b[0;31m---------------------------------------------------------------------------\u001b[0m",
      "\u001b[0;31mAttributeError\u001b[0m                            Traceback (most recent call last)",
      "\u001b[0;32m/tmp/ipykernel_5273/3157468629.py\u001b[0m in \u001b[0;36m<module>\u001b[0;34m\u001b[0m\n\u001b[0;32m----> 1\u001b[0;31m \u001b[0mSuperMarket\u001b[0m\u001b[0;34m.\u001b[0m\u001b[0mitem_price\u001b[0m\u001b[0;34m\u001b[0m\u001b[0;34m\u001b[0m\u001b[0m\n\u001b[0m",
      "\u001b[0;31mAttributeError\u001b[0m: type object 'SuperMarket' has no attribute 'item_price'"
     ]
    }
   ],
   "source": [
    "SuperMarket.item_price"
   ]
  },
  {
   "cell_type": "markdown",
   "id": "7e6e38e3-db52-4e3f-a52a-76d3f69cf0c5",
   "metadata": {},
   "source": [
    "`item_price` is Instance Attribute, We can clearly see that there's an `AttributeError` raised when trying to access instance attribute using the Class rather than the instance."
   ]
  },
  {
   "cell_type": "markdown",
   "id": "978c1e36-b5bc-4ece-b178-adbd764eaeb2",
   "metadata": {},
   "source": [
    "### Checking if Class Attribute is bound to Class?"
   ]
  },
  {
   "cell_type": "code",
   "execution_count": 13,
   "id": "31b89df9-4a61-472f-b493-812883b32755",
   "metadata": {},
   "outputs": [
    {
     "data": {
      "text/plain": [
       "0"
      ]
     },
     "execution_count": 13,
     "metadata": {},
     "output_type": "execute_result"
    }
   ],
   "source": [
    "SuperMarket.discount"
   ]
  },
  {
   "cell_type": "markdown",
   "id": "bf03172e-9091-4c61-b18f-ebb874c393ad",
   "metadata": {},
   "source": [
    "🎊 Hurray! We are able to access `discount` using the Class itself."
   ]
  },
  {
   "cell_type": "markdown",
   "id": "d517bfec-2013-41a0-a4d3-39d4ff384e11",
   "metadata": {},
   "source": [
    "Hence, Class Attributes are bound to Class whereas Instance Attributes are bound to Instances."
   ]
  },
  {
   "cell_type": "markdown",
   "id": "bca60f53-a8f1-4fb6-a446-fa619fb99ebf",
   "metadata": {},
   "source": [
    "Well, there's no reason for you to trust me 😬, So let's look at the attributes present for the class."
   ]
  },
  {
   "cell_type": "code",
   "execution_count": 8,
   "id": "b7a00af4-73f8-4a8a-a652-f6d962ef491c",
   "metadata": {},
   "outputs": [
    {
     "data": {
      "text/plain": [
       "mappingproxy({'__module__': '__main__',\n",
       "              'discount': 0,\n",
       "              '__init__': <function __main__.SuperMarket.__init__(self, item_price)>,\n",
       "              'get_bill': <function __main__.SuperMarket.get_bill(self)>,\n",
       "              '__dict__': <attribute '__dict__' of 'SuperMarket' objects>,\n",
       "              '__weakref__': <attribute '__weakref__' of 'SuperMarket' objects>,\n",
       "              '__doc__': None})"
      ]
     },
     "execution_count": 8,
     "metadata": {},
     "output_type": "execute_result"
    }
   ],
   "source": [
    "SuperMarket.__dict__"
   ]
  },
  {
   "cell_type": "markdown",
   "id": "f6b0eb47-cb10-4a80-835e-e2a6ed068682",
   "metadata": {},
   "source": [
    "We can see that `SuperMarket.__dict__` returned an object which shows the attribute `discount` which is a "
   ]
  }
 ],
 "metadata": {
  "kernelspec": {
   "display_name": "Python 3 (ipykernel)",
   "language": "python",
   "name": "python3"
  },
  "language_info": {
   "codemirror_mode": {
    "name": "ipython",
    "version": 3
   },
   "file_extension": ".py",
   "mimetype": "text/x-python",
   "name": "python",
   "nbconvert_exporter": "python",
   "pygments_lexer": "ipython3",
   "version": "3.9.7"
  }
 },
 "nbformat": 4,
 "nbformat_minor": 5
}
