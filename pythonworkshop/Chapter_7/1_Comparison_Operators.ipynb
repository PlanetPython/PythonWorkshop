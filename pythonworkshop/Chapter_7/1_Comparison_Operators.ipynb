{
 "cells": [
  {
   "cell_type": "markdown",
   "id": "7b459ce3-2609-48df-8ee5-f06849468dc7",
   "metadata": {},
   "source": [
    "# Comparison operators"
   ]
  },
  {
   "cell_type": "markdown",
   "id": "5f27e14c-48b8-4b9d-8e25-2d8b221ddaf1",
   "metadata": {},
   "source": [
    "The comparison operators help to compare two objects. The comparison operators we have in Python are:"
   ]
  },
  {
   "cell_type": "markdown",
   "id": "b1dee787-a430-433e-8c79-889f16c65851",
   "metadata": {},
   "source": [
    "|Operator|Description                                                                                                    |\n",
    "|--------|---------------------------------------------------------------------------------------------------------------|\n",
    "|==      |Checks if the values of two operands are equal, if equal results `True`, else `False`                          |\n",
    "|!=      |Checks if the values of two operands are not equal, if not equal results `True`, else `False`                  |\n",
    "|>       |If the value of left operand is greater than right operand, then the result is `True`, else `False`            |\n",
    "|>=      |If the value of left operand is greater than or equal to right operand, then the result is `True`, else `False`|\n",
    "|<       |If the value of right operand is greater than left operand, then the result is `True`, else `False`            |\n",
    "|<=      |If the value of right operand is greater than or equal to left operand, then the result is `True`, else `False`|"
   ]
  },
  {
   "cell_type": "markdown",
   "id": "2120f602-4001-4be1-9ba0-cfeb03f751f1",
   "metadata": {},
   "source": [
    "If you are already familiar with any other programming language, then you might have already mingled with the above comparison operators. Apart from the above comparison operators, we have one more in Python:"
   ]
  },
  {
   "cell_type": "markdown",
   "id": "e3d905c3-c95c-46e3-990c-c756aceefc41",
   "metadata": {},
   "source": [
    "|Operator|Description                                                                        |\n",
    "|--------|-----------------------------------------------------------------------------------|\n",
    "|`is`    |Checks if both the operands are same object, if yes, result is `True`, else `False`|"
   ]
  },
  {
   "cell_type": "markdown",
   "id": "06c2017f-82e9-4aca-bbcd-fba729eb1335",
   "metadata": {},
   "source": [
    "Time for a few examples on the above mentioned operators."
   ]
  },
  {
   "cell_type": "markdown",
   "id": "5a2f8d43-e52a-44d7-8ebf-3d892db9b030",
   "metadata": {},
   "source": [
    "## `==` comparison operator"
   ]
  },
  {
   "cell_type": "markdown",
   "id": "f3e3c5b6-fd8a-4c00-af11-a55a758193b4",
   "metadata": {},
   "source": [
    "The `==` operator checks if both the values of the operands are equal or not, if they are equal, it results in `True` else `False`."
   ]
  },
  {
   "cell_type": "code",
   "execution_count": 14,
   "id": "4672c5a9-8745-4ad4-a388-6cc803f4aff1",
   "metadata": {},
   "outputs": [
    {
     "name": "stdout",
     "output_type": "stream",
     "text": [
      "True\n",
      "True\n",
      "True\n",
      "True\n",
      "True\n",
      "True\n"
     ]
    }
   ],
   "source": [
    "# True\n",
    "\n",
    "# integers\n",
    "print(8 == 8 )\n",
    "print(5 == (1+4))\n",
    "\n",
    "# float\n",
    "print(0.3==0.30)\n",
    "\n",
    "# str\n",
    "print(\"🐍\" == \"🐍\")\n",
    "\n",
    "# tuple\n",
    "print((1,2,3, \"a\") == (1,2,3, \"a\"))\n",
    "\n",
    "# list\n",
    "print([1,2,3] == [1,2,3])"
   ]
  },
  {
   "cell_type": "code",
   "execution_count": 17,
   "id": "ba943615-d67a-4422-aead-f19eb2f274ee",
   "metadata": {},
   "outputs": [
    {
     "name": "stdout",
     "output_type": "stream",
     "text": [
      "False\n",
      "False\n",
      "False\n",
      "False\n",
      "False\n",
      "False\n"
     ]
    }
   ],
   "source": [
    "# False\n",
    "\n",
    "# integers\n",
    "print(8 == 6 )\n",
    "print(5 == (1+3))\n",
    "\n",
    "# float\n",
    "print(0.3==8.49)\n",
    "\n",
    "# str\n",
    "print(\"🐍\" == \"😬\")\n",
    "\n",
    "# tuple\n",
    "print((1,2,3, \"a\", \"b\") == (1,2,3, \"a\"))\n",
    "\n",
    "# list\n",
    "print([1,2,3] == [1,2,3, \"👻\"])"
   ]
  },
  {
   "cell_type": "markdown",
   "id": "4076ca09-90d0-436c-8940-b51976f84070",
   "metadata": {},
   "source": [
    "## `!=` comparison operator"
   ]
  },
  {
   "cell_type": "markdown",
   "id": "b0c90f97-c069-4f14-ae75-31b0203dee67",
   "metadata": {},
   "source": [
    "`!=` is not equal to operator, which works exactly opposite to the equal operator `==`."
   ]
  },
  {
   "cell_type": "markdown",
   "id": "e103ee60-dffd-4b32-9764-4d4918326c8f",
   "metadata": {},
   "source": [
    "If the "
   ]
  }
 ],
 "metadata": {
  "kernelspec": {
   "display_name": "Python 3 (ipykernel)",
   "language": "python",
   "name": "python3"
  },
  "language_info": {
   "codemirror_mode": {
    "name": "ipython",
    "version": 3
   },
   "file_extension": ".py",
   "mimetype": "text/x-python",
   "name": "python",
   "nbconvert_exporter": "python",
   "pygments_lexer": "ipython3",
   "version": "3.9.5"
  }
 },
 "nbformat": 4,
 "nbformat_minor": 5
}
