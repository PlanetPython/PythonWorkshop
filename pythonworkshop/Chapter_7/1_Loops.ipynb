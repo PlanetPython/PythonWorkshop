{
 "cells": [
  {
   "cell_type": "markdown",
   "id": "a450dcc2-1dd5-4ee0-8534-12d6b774a7d7",
   "metadata": {},
   "source": [
    "# Loops"
   ]
  },
  {
   "cell_type": "markdown",
   "id": "3a1d5c92-955f-4cc0-8688-e64e66d7b90b",
   "metadata": {},
   "source": [
    "I just had an heated argument 🔥 with my girlfriend. I need to write 5 times **I love you ❤️** as punishment. Let's start writing 🙁"
   ]
  },
  {
   "cell_type": "code",
   "execution_count": 3,
   "id": "89ac49ab-46b5-46a1-bd29-aacb13749f5b",
   "metadata": {},
   "outputs": [
    {
     "name": "stdout",
     "output_type": "stream",
     "text": [
      "I love you ❤️\n",
      "I love you ❤️\n",
      "I love you ❤️\n",
      "I love you ❤️\n",
      "I love you ❤️\n"
     ]
    }
   ],
   "source": [
    "print(\"I love you ❤️\")\n",
    "print(\"I love you ❤️\")\n",
    "print(\"I love you ❤️\")\n",
    "print(\"I love you ❤️\")\n",
    "print(\"I love you ❤️\")"
   ]
  },
  {
   "cell_type": "markdown",
   "id": "0568c392-3aa8-48c8-9bc8-7872caa965a9",
   "metadata": {},
   "source": [
    "That was pretty easy, it just took me couples of seconds. But what if she asks for 100 times, or 1000 times, I am doomed 😱"
   ]
  },
  {
   "cell_type": "markdown",
   "id": "69db4a0c-1d37-40b1-b3e2-59aa587b50a9",
   "metadata": {},
   "source": [
    "Here comes our saviours **Loops** "
   ]
  }
 ],
 "metadata": {
  "kernelspec": {
   "display_name": "Python 3 (ipykernel)",
   "language": "python",
   "name": "python3"
  },
  "language_info": {
   "codemirror_mode": {
    "name": "ipython",
    "version": 3
   },
   "file_extension": ".py",
   "mimetype": "text/x-python",
   "name": "python",
   "nbconvert_exporter": "python",
   "pygments_lexer": "ipython3",
   "version": "3.9.5"
  }
 },
 "nbformat": 4,
 "nbformat_minor": 5
}
