{
 "cells": [
  {
   "cell_type": "markdown",
   "id": "a450dcc2-1dd5-4ee0-8534-12d6b774a7d7",
   "metadata": {},
   "source": [
    "# Loops"
   ]
  },
  {
   "cell_type": "markdown",
   "id": "3a1d5c92-955f-4cc0-8688-e64e66d7b90b",
   "metadata": {},
   "source": [
    "I just had an heated argument 🔥 with my girlfriend. I need to write 5 times **I love you ❤️** as punishment. Let's start writing 🙁"
   ]
  },
  {
   "cell_type": "code",
   "execution_count": 3,
   "id": "89ac49ab-46b5-46a1-bd29-aacb13749f5b",
   "metadata": {
    "collapsed": true,
    "jupyter": {
     "outputs_hidden": true,
     "source_hidden": true
    },
    "tags": []
   },
   "outputs": [
    {
     "name": "stdout",
     "output_type": "stream",
     "text": [
      "I love you ❤️\n",
      "I love you ❤️\n",
      "I love you ❤️\n",
      "I love you ❤️\n",
      "I love you ❤️\n"
     ]
    }
   ],
   "source": [
    "print(\"I love you ❤️\")\n",
    "print(\"I love you ❤️\")\n",
    "print(\"I love you ❤️\")\n",
    "print(\"I love you ❤️\")\n",
    "print(\"I love you ❤️\")"
   ]
  },
  {
   "cell_type": "markdown",
   "id": "0568c392-3aa8-48c8-9bc8-7872caa965a9",
   "metadata": {},
   "source": [
    "That was pretty easy, it just took me couples of seconds. But what if she asks for 100 times, or 1000 times, I am doomed 😱"
   ]
  },
  {
   "cell_type": "markdown",
   "id": "69db4a0c-1d37-40b1-b3e2-59aa587b50a9",
   "metadata": {},
   "source": [
    "Here comes our saviours **Loops**. Let's do the same, but using a loop."
   ]
  },
  {
   "cell_type": "code",
   "execution_count": 1,
   "id": "911ef9a5-3d64-46db-ab8f-da25aed3cb8d",
   "metadata": {
    "collapsed": true,
    "jupyter": {
     "outputs_hidden": true,
     "source_hidden": true
    },
    "tags": []
   },
   "outputs": [
    {
     "name": "stdout",
     "output_type": "stream",
     "text": [
      "I love you ❤️\n",
      "I love you ❤️\n",
      "I love you ❤️\n",
      "I love you ❤️\n",
      "I love you ❤️\n"
     ]
    }
   ],
   "source": [
    "count = 0\n",
    "while count < 5:\n",
    "    count += 1\n",
    "    print(\"I love you ❤️\")"
   ]
  },
  {
   "cell_type": "markdown",
   "id": "478f701c-d605-4a5d-a56c-626e32eaafa0",
   "metadata": {},
   "source": [
    "Yup! we did it much easier, how crazy ever my girlfriend is and gives me punishment to write any number of times, I can just change the condition of while loop as `count < <number>`."
   ]
  },
  {
   "cell_type": "markdown",
   "id": "75833899-a863-476d-bd35-33ff778f5c4a",
   "metadata": {},
   "source": [
    "```{error}\n",
    "404: My Girlfriend neither found nor exists.😬\n",
    "```"
   ]
  },
  {
   "cell_type": "markdown",
   "id": "9bec1778-5235-4d25-ad44-1396bad40164",
   "metadata": {
    "jupyter": {
     "source_hidden": true
    },
    "tags": []
   },
   "source": [
    "Basically loops are used to execute a block of code repeatedly, until a break condition is satisfied. Break condition is not required unless we want to run an infinite loop 🙄."
   ]
  },
  {
   "cell_type": "markdown",
   "id": "ef8c9734-714f-4789-a9ff-ff5d1bad2bbc",
   "metadata": {},
   "source": [
    "We have two ways to build loops in Python:"
   ]
  },
  {
   "cell_type": "markdown",
   "id": "acebf941-bb5b-4d97-8660-59b84e3fcd6f",
   "metadata": {},
   "source": [
    "* `while`\n",
    "* `for`"
   ]
  },
  {
   "cell_type": "markdown",
   "id": "4e8ff007-c6e4-43cc-be25-0ebbb8285d1a",
   "metadata": {},
   "source": [
    "To exit the loops explicitly, we can use `break` keyword. `break` keyword exits the right loop which it is indended in."
   ]
  },
  {
   "cell_type": "markdown",
   "id": "6eb2902f-eccd-487f-831e-b0d33f30798a",
   "metadata": {},
   "source": [
    "## `while`"
   ]
  },
  {
   "cell_type": "markdown",
   "id": "7bf38daf-fcb3-42e1-993b-0485f657b273",
   "metadata": {},
   "source": [
    "`while` loop also works based on the Truth values of the condition/object, if the truth value is `True`, then the loop continues to execute, else breaks the loop. The syntax of `while` loop is:"
   ]
  },
  {
   "cell_type": "markdown",
   "id": "52475a64-76ea-40ff-8bb8-2f24caeb5241",
   "metadata": {},
   "source": [
    "```Python\n",
    "while <condtion>:\n",
    "    ...\n",
    "```"
   ]
  },
  {
   "cell_type": "markdown",
   "id": "d24166a9-b472-4efc-86fc-b654d307b6e6",
   "metadata": {},
   "source": [
    "Yipeee! We have already use `while` loop in our first example. Let's see more examples."
   ]
  },
  {
   "cell_type": "markdown",
   "id": "cc3a21fb-f929-4f5f-ad9e-846ec4824c0f",
   "metadata": {},
   "source": [
    "let's find even numbers until 20."
   ]
  },
  {
   "cell_type": "code",
   "execution_count": 2,
   "id": "b7bae953-c93c-4cf8-93dd-ad898cb65fff",
   "metadata": {},
   "outputs": [
    {
     "name": "stdout",
     "output_type": "stream",
     "text": [
      "0 is even.\n",
      "2 is even.\n",
      "4 is even.\n",
      "6 is even.\n",
      "8 is even.\n",
      "10 is even.\n",
      "12 is even.\n",
      "14 is even.\n",
      "16 is even.\n",
      "18 is even.\n",
      "20 is even.\n"
     ]
    }
   ],
   "source": [
    "number = 0\n",
    "while number <= 20:\n",
    "    if number % 2 == 0:\n",
    "        print(f\"{number} is even.\")\n",
    "    number += 1"
   ]
  },
  {
   "cell_type": "markdown",
   "id": "8512b014-f9d4-47a7-b330-c6a5ebc21e91",
   "metadata": {},
   "source": [
    "We dit it 😎! let's get to the explanation phase:"
   ]
  },
  {
   "cell_type": "markdown",
   "id": "1fff903b-fa72-46a1-b64b-0b6db6f889a2",
   "metadata": {},
   "source": [
    "We have created a integer object `number` with value 0. We created a while loop with the condition as `number <= 20`, so until the `number` is greater than 20, the while loop continues to execute. we have a if condition `if number % 2 == 0:` that checks if the number is even, if the number is even, then prints saying the number is even, else skips."
   ]
  },
  {
   "cell_type": "markdown",
   "id": "e417e06e-4db1-4f19-862b-9bdbc23c49b8",
   "metadata": {},
   "source": [
    "`number += 1`, don't forget this unless you want to get into infinite loop 😬. For each iteration in `while` loop, `number` increments by 1, once the number is incremented to 21, the while loop breaks and doesn't execute anymore as it is resulting Falsy for the condition `number <= 20`."
   ]
  },
  {
   "cell_type": "markdown",
   "id": "032bc774-e1ae-40ee-8e60-c4a05d84dbac",
   "metadata": {},
   "source": [
    "## `for`"
   ]
  },
  {
   "cell_type": "markdown",
   "id": "5a49ba4b-b905-4553-b7d0-2c458ba8d418",
   "metadata": {},
   "source": [
    "We have another loop called `for`, which is used for iterating over the iterator or sequences like `list`, `tuple`, `str` etc.."
   ]
  },
  {
   "cell_type": "code",
   "execution_count": 3,
   "id": "5ea7e65b-71f4-4dd2-b02e-165c0a019cd2",
   "metadata": {},
   "outputs": [
    {
     "name": "stdout",
     "output_type": "stream",
     "text": [
      "🐍\n",
      "🚀\n",
      "😊\n"
     ]
    }
   ],
   "source": [
    "my_list = [\"🐍\", \"🚀\", \"😊\"]\n",
    "for obj in my_list:\n",
    "    print(obj)"
   ]
  },
  {
   "cell_type": "markdown",
   "id": "daf72458-69e9-4331-bd6a-64e96b11eef9",
   "metadata": {},
   "source": [
    "We can even iterate over strings"
   ]
  },
  {
   "cell_type": "code",
   "execution_count": 4,
   "id": "3ba846a2-31d1-48b6-9b6b-39cee4cd69e0",
   "metadata": {},
   "outputs": [
    {
     "name": "stdout",
     "output_type": "stream",
     "text": [
      "P\n",
      "y\n",
      "t\n",
      "h\n",
      "o\n",
      "n\n"
     ]
    }
   ],
   "source": [
    "for char in \"Python\":\n",
    "    print(char)"
   ]
  },
  {
   "cell_type": "markdown",
   "id": "e5fcd089-f9be-4d35-8655-c2759736ef9c",
   "metadata": {},
   "source": [
    "If we want to iterate over numbers, we can use the `range` function which generates the values in the given range."
   ]
  },
  {
   "cell_type": "markdown",
   "id": "9d357314-ec8d-4fc1-a2ee-861ce9f6ef2a",
   "metadata": {},
   "source": [
    "```{hint}\n",
    "`range` function accepts atleast 1 argument \n",
    "```"
   ]
  },
  {
   "cell_type": "code",
   "execution_count": 5,
   "id": "c3ac9732-d805-464e-bf6b-481374b6a267",
   "metadata": {},
   "outputs": [
    {
     "data": {
      "text/plain": [
       "\u001b[0;31mInit signature:\u001b[0m \u001b[0mrange\u001b[0m\u001b[0;34m(\u001b[0m\u001b[0mself\u001b[0m\u001b[0;34m,\u001b[0m \u001b[0;34m/\u001b[0m\u001b[0;34m,\u001b[0m \u001b[0;34m*\u001b[0m\u001b[0margs\u001b[0m\u001b[0;34m,\u001b[0m \u001b[0;34m**\u001b[0m\u001b[0mkwargs\u001b[0m\u001b[0;34m)\u001b[0m\u001b[0;34m\u001b[0m\u001b[0;34m\u001b[0m\u001b[0m\n",
       "\u001b[0;31mDocstring:\u001b[0m     \n",
       "range(stop) -> range object\n",
       "range(start, stop[, step]) -> range object\n",
       "\n",
       "Return an object that produces a sequence of integers from start (inclusive)\n",
       "to stop (exclusive) by step.  range(i, j) produces i, i+1, i+2, ..., j-1.\n",
       "start defaults to 0, and stop is omitted!  range(4) produces 0, 1, 2, 3.\n",
       "These are exactly the valid indices for a list of 4 elements.\n",
       "When step is given, it specifies the increment (or decrement).\n",
       "\u001b[0;31mType:\u001b[0m           type\n",
       "\u001b[0;31mSubclasses:\u001b[0m     \n"
      ]
     },
     "metadata": {},
     "output_type": "display_data"
    }
   ],
   "source": [
    "range?"
   ]
  }
 ],
 "metadata": {
  "kernelspec": {
   "display_name": "Python 3 (ipykernel)",
   "language": "python",
   "name": "python3"
  },
  "language_info": {
   "codemirror_mode": {
    "name": "ipython",
    "version": 3
   },
   "file_extension": ".py",
   "mimetype": "text/x-python",
   "name": "python",
   "nbconvert_exporter": "python",
   "pygments_lexer": "ipython3",
   "version": "3.9.5"
  }
 },
 "nbformat": 4,
 "nbformat_minor": 5
}
