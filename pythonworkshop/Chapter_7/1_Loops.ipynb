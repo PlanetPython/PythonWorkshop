{
 "cells": [
  {
   "cell_type": "markdown",
   "id": "a450dcc2-1dd5-4ee0-8534-12d6b774a7d7",
   "metadata": {},
   "source": [
    "# Loops"
   ]
  },
  {
   "cell_type": "markdown",
   "id": "3a1d5c92-955f-4cc0-8688-e64e66d7b90b",
   "metadata": {},
   "source": [
    "I just had an heated argument 🔥 with my girlfriend. I need to write 5 times **I love you ❤️** as punishment. Let's start writing 🙁"
   ]
  },
  {
   "cell_type": "code",
   "execution_count": 3,
   "id": "89ac49ab-46b5-46a1-bd29-aacb13749f5b",
   "metadata": {
    "collapsed": true,
    "jupyter": {
     "outputs_hidden": true
    },
    "tags": []
   },
   "outputs": [
    {
     "name": "stdout",
     "output_type": "stream",
     "text": [
      "I love you ❤️\n",
      "I love you ❤️\n",
      "I love you ❤️\n",
      "I love you ❤️\n",
      "I love you ❤️\n"
     ]
    }
   ],
   "source": [
    "print(\"I love you ❤️\")\n",
    "print(\"I love you ❤️\")\n",
    "print(\"I love you ❤️\")\n",
    "print(\"I love you ❤️\")\n",
    "print(\"I love you ❤️\")"
   ]
  },
  {
   "cell_type": "markdown",
   "id": "0568c392-3aa8-48c8-9bc8-7872caa965a9",
   "metadata": {},
   "source": [
    "That was pretty easy, it just took me couples of seconds. But what if she asks for 100 times, or 1000 times, I am doomed 😱"
   ]
  },
  {
   "cell_type": "markdown",
   "id": "69db4a0c-1d37-40b1-b3e2-59aa587b50a9",
   "metadata": {},
   "source": [
    "Here comes our saviours **Loops**. Let's do the same, but using a loop."
   ]
  },
  {
   "cell_type": "code",
   "execution_count": 1,
   "id": "911ef9a5-3d64-46db-ab8f-da25aed3cb8d",
   "metadata": {
    "collapsed": true,
    "jupyter": {
     "outputs_hidden": true
    },
    "tags": []
   },
   "outputs": [
    {
     "name": "stdout",
     "output_type": "stream",
     "text": [
      "I love you ❤️\n",
      "I love you ❤️\n",
      "I love you ❤️\n",
      "I love you ❤️\n",
      "I love you ❤️\n"
     ]
    }
   ],
   "source": [
    "count = 0\n",
    "while count < 5:\n",
    "    count += 1\n",
    "    print(\"I love you ❤️\")"
   ]
  },
  {
   "cell_type": "markdown",
   "id": "478f701c-d605-4a5d-a56c-626e32eaafa0",
   "metadata": {},
   "source": [
    "Yup! we did it much easier, how crazy ever my girlfriend is and gives me punishment to write any number of times, I can just change the condition of while loop as `count < <number>`."
   ]
  },
  {
   "cell_type": "markdown",
   "id": "75833899-a863-476d-bd35-33ff778f5c4a",
   "metadata": {},
   "source": [
    "```{error}\n",
    "404: My Girlfriend neither found nor exists.😬\n",
    "```"
   ]
  },
  {
   "cell_type": "markdown",
   "id": "9bec1778-5235-4d25-ad44-1396bad40164",
   "metadata": {},
   "source": [
    "Basically loops are used to execute a block of code repeatedly, until a break condition is satisfied. Break condition is not required unless we want to run an infinite loop 🙄."
   ]
  },
  {
   "cell_type": "markdown",
   "id": "ef8c9734-714f-4789-a9ff-ff5d1bad2bbc",
   "metadata": {},
   "source": [
    "We have two ways to build loops in Python:"
   ]
  },
  {
   "cell_type": "markdown",
   "id": "acebf941-bb5b-4d97-8660-59b84e3fcd6f",
   "metadata": {},
   "source": [
    "* `while`\n",
    "* `for`"
   ]
  },
  {
   "cell_type": "markdown",
   "id": "4e8ff007-c6e4-43cc-be25-0ebbb8285d1a",
   "metadata": {},
   "source": [
    "To exit the loops explicitly, we can use `break` "
   ]
  },
  {
   "cell_type": "markdown",
   "id": "6eb2902f-eccd-487f-831e-b0d33f30798a",
   "metadata": {},
   "source": [
    "## while"
   ]
  },
  {
   "cell_type": "markdown",
   "id": "7bf38daf-fcb3-42e1-993b-0485f657b273",
   "metadata": {},
   "source": [
    "`while` loop also works based on the Truth values of the condition/object, if the truth value is `True`, then the loop continues to execute, else breaks the loop. The syntax of `while` loop is:"
   ]
  },
  {
   "cell_type": "markdown",
   "id": "52475a64-76ea-40ff-8bb8-2f24caeb5241",
   "metadata": {},
   "source": [
    "```Python\n",
    "while <condtion>:\n",
    "    ...\n",
    "```"
   ]
  },
  {
   "cell_type": "code",
   "execution_count": null,
   "id": "3c01e460-d68d-490f-9720-583874f14393",
   "metadata": {},
   "outputs": [],
   "source": []
  }
 ],
 "metadata": {
  "kernelspec": {
   "display_name": "Python 3 (ipykernel)",
   "language": "python",
   "name": "python3"
  },
  "language_info": {
   "codemirror_mode": {
    "name": "ipython",
    "version": 3
   },
   "file_extension": ".py",
   "mimetype": "text/x-python",
   "name": "python",
   "nbconvert_exporter": "python",
   "pygments_lexer": "ipython3",
   "version": "3.9.5"
  }
 },
 "nbformat": 4,
 "nbformat_minor": 5
}
